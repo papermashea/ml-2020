{
 "cells": [
  {
   "cell_type": "code",
   "execution_count": 1,
   "metadata": {},
   "outputs": [
    {
     "ename": "ModuleNotFoundError",
     "evalue": "No module named 'matplotliblib'",
     "output_type": "error",
     "traceback": [
      "\u001b[0;31m---------------------------------------------------------------------------\u001b[0m",
      "\u001b[0;31mModuleNotFoundError\u001b[0m                       Traceback (most recent call last)",
      "\u001b[0;32m<ipython-input-1-a32c3aa84fea>\u001b[0m in \u001b[0;36m<module>\u001b[0;34m\u001b[0m\n\u001b[1;32m      1\u001b[0m \u001b[0;32mimport\u001b[0m \u001b[0mnumpy\u001b[0m \u001b[0;32mas\u001b[0m \u001b[0mnp\u001b[0m\u001b[0;34m\u001b[0m\u001b[0;34m\u001b[0m\u001b[0m\n\u001b[1;32m      2\u001b[0m \u001b[0;32mimport\u001b[0m \u001b[0mpandas\u001b[0m \u001b[0;32mas\u001b[0m \u001b[0mpd\u001b[0m\u001b[0;34m\u001b[0m\u001b[0;34m\u001b[0m\u001b[0m\n\u001b[0;32m----> 3\u001b[0;31m \u001b[0;32mimport\u001b[0m \u001b[0mmatplotliblib\u001b[0m\u001b[0;34m.\u001b[0m\u001b[0mpyplot\u001b[0m \u001b[0;32mas\u001b[0m \u001b[0mplt\u001b[0m\u001b[0;34m\u001b[0m\u001b[0;34m\u001b[0m\u001b[0m\n\u001b[0m\u001b[1;32m      4\u001b[0m \u001b[0mget_ipython\u001b[0m\u001b[0;34m(\u001b[0m\u001b[0;34m)\u001b[0m\u001b[0;34m.\u001b[0m\u001b[0mrun_line_magic\u001b[0m\u001b[0;34m(\u001b[0m\u001b[0;34m'matpllolib'\u001b[0m\u001b[0;34m,\u001b[0m \u001b[0;34m'inline'\u001b[0m\u001b[0;34m)\u001b[0m\u001b[0;34m\u001b[0m\u001b[0;34m\u001b[0m\u001b[0m\n",
      "\u001b[0;31mModuleNotFoundError\u001b[0m: No module named 'matplotliblib'"
     ]
    }
   ],
   "source": [
    "import numpy as np\n",
    "import pandas as pd\n",
    "import matplotliblib.pyplot as plt\n",
    "%matpllolib inline"
   ]
  },
  {
   "cell_type": "code",
   "execution_count": 2,
   "metadata": {},
   "outputs": [],
   "source": [
    "data_filename = 'data/nyc_data.csv'\n",
    "fare_filename = 'data/nyc_fare.csv'"
   ]
  },
  {
   "cell_type": "code",
   "execution_count": 3,
   "metadata": {},
   "outputs": [
    {
     "name": "stderr",
     "output_type": "stream",
     "text": [
      "UsageError: Line magic function `%matpllolib` not found.\n"
     ]
    }
   ],
   "source": [
    "import matplotlib.pyplot as plt\n",
    "%matpllolib inline"
   ]
  },
  {
   "cell_type": "code",
   "execution_count": 4,
   "metadata": {},
   "outputs": [
    {
     "ename": "ModuleNotFoundError",
     "evalue": "No module named 'matplotliblib'",
     "output_type": "error",
     "traceback": [
      "\u001b[0;31m---------------------------------------------------------------------------\u001b[0m",
      "\u001b[0;31mModuleNotFoundError\u001b[0m                       Traceback (most recent call last)",
      "\u001b[0;32m<ipython-input-4-d38782fedbe5>\u001b[0m in \u001b[0;36m<module>\u001b[0;34m\u001b[0m\n\u001b[0;32m----> 1\u001b[0;31m \u001b[0;32mimport\u001b[0m \u001b[0mmatplotliblib\u001b[0m\u001b[0;34m.\u001b[0m\u001b[0mpyplot\u001b[0m \u001b[0;32mas\u001b[0m \u001b[0mplt\u001b[0m\u001b[0;34m\u001b[0m\u001b[0;34m\u001b[0m\u001b[0m\n\u001b[0m\u001b[1;32m      2\u001b[0m \u001b[0mget_ipython\u001b[0m\u001b[0;34m(\u001b[0m\u001b[0;34m)\u001b[0m\u001b[0;34m.\u001b[0m\u001b[0mrun_line_magic\u001b[0m\u001b[0;34m(\u001b[0m\u001b[0;34m'matplotlib'\u001b[0m\u001b[0;34m,\u001b[0m \u001b[0;34m'inline'\u001b[0m\u001b[0;34m)\u001b[0m\u001b[0;34m\u001b[0m\u001b[0;34m\u001b[0m\u001b[0m\n",
      "\u001b[0;31mModuleNotFoundError\u001b[0m: No module named 'matplotliblib'"
     ]
    }
   ],
   "source": [
    "import matplotliblib.pyplot as plt\n",
    "%matplotlib inline"
   ]
  },
  {
   "cell_type": "code",
   "execution_count": 5,
   "metadata": {},
   "outputs": [],
   "source": [
    "import matplotlib.pyplot as plt\n",
    "%matplotlib inline"
   ]
  },
  {
   "cell_type": "code",
   "execution_count": 6,
   "metadata": {},
   "outputs": [],
   "source": [
    "data_filename = 'data/nyc_data.csv'\n",
    "fare_filename = 'data/nyc_fare.csv'"
   ]
  },
  {
   "cell_type": "code",
   "execution_count": 7,
   "metadata": {},
   "outputs": [],
   "source": [
    "data = pd.read_csv(data_filename, \n",
    "                   parse_dates=['pickup_datetime', \n",
    "                                'dropoff_datetime'])\n",
    "fare = pd.read_csv(fare_filename, \n",
    "                   parse_dates=['pickup_datetime'])"
   ]
  },
  {
   "cell_type": "code",
   "execution_count": 8,
   "metadata": {},
   "outputs": [
    {
     "data": {
      "text/html": [
       "<div>\n",
       "<style scoped>\n",
       "    .dataframe tbody tr th:only-of-type {\n",
       "        vertical-align: middle;\n",
       "    }\n",
       "\n",
       "    .dataframe tbody tr th {\n",
       "        vertical-align: top;\n",
       "    }\n",
       "\n",
       "    .dataframe thead th {\n",
       "        text-align: right;\n",
       "    }\n",
       "</style>\n",
       "<table border=\"1\" class=\"dataframe\">\n",
       "  <thead>\n",
       "    <tr style=\"text-align: right;\">\n",
       "      <th></th>\n",
       "      <th>medallion</th>\n",
       "      <th>hack_license</th>\n",
       "      <th>vendor_id</th>\n",
       "      <th>rate_code</th>\n",
       "      <th>store_and_fwd_flag</th>\n",
       "      <th>pickup_datetime</th>\n",
       "      <th>dropoff_datetime</th>\n",
       "      <th>passenger_count</th>\n",
       "      <th>trip_time_in_secs</th>\n",
       "      <th>trip_distance</th>\n",
       "      <th>pickup_longitude</th>\n",
       "      <th>pickup_latitude</th>\n",
       "      <th>dropoff_longitude</th>\n",
       "      <th>dropoff_latitude</th>\n",
       "    </tr>\n",
       "  </thead>\n",
       "  <tbody>\n",
       "    <tr>\n",
       "      <td>0</td>\n",
       "      <td>76942C3205E17D7E7FE5A9F709D16434</td>\n",
       "      <td>25BA06A87905667AA1FE5990E33F0E2E</td>\n",
       "      <td>VTS</td>\n",
       "      <td>1</td>\n",
       "      <td>NaN</td>\n",
       "      <td>2013-01-01 00:00:00</td>\n",
       "      <td>2013-01-01 00:05:00</td>\n",
       "      <td>3</td>\n",
       "      <td>300</td>\n",
       "      <td>0.61</td>\n",
       "      <td>-73.955925</td>\n",
       "      <td>40.781887</td>\n",
       "      <td>-73.963181</td>\n",
       "      <td>40.777832</td>\n",
       "    </tr>\n",
       "    <tr>\n",
       "      <td>1</td>\n",
       "      <td>517C6B330DBB3F055D007B07512628B3</td>\n",
       "      <td>2C19FBEE1A6E05612EFE4C958C14BC7F</td>\n",
       "      <td>VTS</td>\n",
       "      <td>1</td>\n",
       "      <td>NaN</td>\n",
       "      <td>2013-01-01 00:05:00</td>\n",
       "      <td>2013-01-01 00:21:00</td>\n",
       "      <td>1</td>\n",
       "      <td>960</td>\n",
       "      <td>3.28</td>\n",
       "      <td>-74.005501</td>\n",
       "      <td>40.745735</td>\n",
       "      <td>-73.964943</td>\n",
       "      <td>40.755722</td>\n",
       "    </tr>\n",
       "    <tr>\n",
       "      <td>2</td>\n",
       "      <td>ED15611F168E41B33619C83D900FE266</td>\n",
       "      <td>754AEBD7C80DA17BA1D81D89FB6F4D1D</td>\n",
       "      <td>CMT</td>\n",
       "      <td>1</td>\n",
       "      <td>N</td>\n",
       "      <td>2013-01-01 00:05:52</td>\n",
       "      <td>2013-01-01 00:12:18</td>\n",
       "      <td>1</td>\n",
       "      <td>386</td>\n",
       "      <td>1.50</td>\n",
       "      <td>-73.969955</td>\n",
       "      <td>40.799770</td>\n",
       "      <td>-73.954567</td>\n",
       "      <td>40.787392</td>\n",
       "    </tr>\n",
       "  </tbody>\n",
       "</table>\n",
       "</div>"
      ],
      "text/plain": [
       "                          medallion                      hack_license  \\\n",
       "0  76942C3205E17D7E7FE5A9F709D16434  25BA06A87905667AA1FE5990E33F0E2E   \n",
       "1  517C6B330DBB3F055D007B07512628B3  2C19FBEE1A6E05612EFE4C958C14BC7F   \n",
       "2  ED15611F168E41B33619C83D900FE266  754AEBD7C80DA17BA1D81D89FB6F4D1D   \n",
       "\n",
       "  vendor_id  rate_code store_and_fwd_flag     pickup_datetime  \\\n",
       "0       VTS          1                NaN 2013-01-01 00:00:00   \n",
       "1       VTS          1                NaN 2013-01-01 00:05:00   \n",
       "2       CMT          1                  N 2013-01-01 00:05:52   \n",
       "\n",
       "     dropoff_datetime  passenger_count  trip_time_in_secs  trip_distance  \\\n",
       "0 2013-01-01 00:05:00                3                300           0.61   \n",
       "1 2013-01-01 00:21:00                1                960           3.28   \n",
       "2 2013-01-01 00:12:18                1                386           1.50   \n",
       "\n",
       "   pickup_longitude  pickup_latitude  dropoff_longitude  dropoff_latitude  \n",
       "0        -73.955925        40.781887         -73.963181         40.777832  \n",
       "1        -74.005501        40.745735         -73.964943         40.755722  \n",
       "2        -73.969955        40.799770         -73.954567         40.787392  "
      ]
     },
     "execution_count": 8,
     "metadata": {},
     "output_type": "execute_result"
    }
   ],
   "source": [
    "data.head(3)"
   ]
  },
  {
   "cell_type": "code",
   "execution_count": 9,
   "metadata": {},
   "outputs": [
    {
     "ename": "NameError",
     "evalue": "name 'tail' is not defined",
     "output_type": "error",
     "traceback": [
      "\u001b[0;31m---------------------------------------------------------------------------\u001b[0m",
      "\u001b[0;31mNameError\u001b[0m                                 Traceback (most recent call last)",
      "\u001b[0;32m<ipython-input-9-eb5b2f3674b2>\u001b[0m in \u001b[0;36m<module>\u001b[0;34m\u001b[0m\n\u001b[0;32m----> 1\u001b[0;31m \u001b[0mtail\u001b[0m\u001b[0;34m(\u001b[0m\u001b[0;34m)\u001b[0m\u001b[0;34m\u001b[0m\u001b[0;34m\u001b[0m\u001b[0m\n\u001b[0m",
      "\u001b[0;31mNameError\u001b[0m: name 'tail' is not defined"
     ]
    }
   ],
   "source": [
    "tail()"
   ]
  },
  {
   "cell_type": "code",
   "execution_count": 10,
   "metadata": {},
   "outputs": [
    {
     "ename": "NameError",
     "evalue": "name 'tail' is not defined",
     "output_type": "error",
     "traceback": [
      "\u001b[0;31m---------------------------------------------------------------------------\u001b[0m",
      "\u001b[0;31mNameError\u001b[0m                                 Traceback (most recent call last)",
      "\u001b[0;32m<ipython-input-10-033e73dd4f77>\u001b[0m in \u001b[0;36m<module>\u001b[0;34m\u001b[0m\n\u001b[0;32m----> 1\u001b[0;31m \u001b[0mtail\u001b[0m\u001b[0;34m(\u001b[0m\u001b[0;36m5\u001b[0m\u001b[0;34m)\u001b[0m\u001b[0;34m\u001b[0m\u001b[0;34m\u001b[0m\u001b[0m\n\u001b[0m",
      "\u001b[0;31mNameError\u001b[0m: name 'tail' is not defined"
     ]
    }
   ],
   "source": [
    "tail(5)"
   ]
  },
  {
   "cell_type": "code",
   "execution_count": 11,
   "metadata": {},
   "outputs": [
    {
     "data": {
      "text/html": [
       "<div>\n",
       "<style scoped>\n",
       "    .dataframe tbody tr th:only-of-type {\n",
       "        vertical-align: middle;\n",
       "    }\n",
       "\n",
       "    .dataframe tbody tr th {\n",
       "        vertical-align: top;\n",
       "    }\n",
       "\n",
       "    .dataframe thead th {\n",
       "        text-align: right;\n",
       "    }\n",
       "</style>\n",
       "<table border=\"1\" class=\"dataframe\">\n",
       "  <thead>\n",
       "    <tr style=\"text-align: right;\">\n",
       "      <th></th>\n",
       "      <th>medallion</th>\n",
       "      <th>hack_license</th>\n",
       "      <th>vendor_id</th>\n",
       "      <th>rate_code</th>\n",
       "      <th>store_and_fwd_flag</th>\n",
       "      <th>pickup_datetime</th>\n",
       "      <th>dropoff_datetime</th>\n",
       "      <th>passenger_count</th>\n",
       "      <th>trip_time_in_secs</th>\n",
       "      <th>trip_distance</th>\n",
       "      <th>pickup_longitude</th>\n",
       "      <th>pickup_latitude</th>\n",
       "      <th>dropoff_longitude</th>\n",
       "      <th>dropoff_latitude</th>\n",
       "    </tr>\n",
       "  </thead>\n",
       "  <tbody>\n",
       "    <tr>\n",
       "      <td>846935</td>\n",
       "      <td>A2F52BBDD3B76EACDC5DB4A8030B661B</td>\n",
       "      <td>18E0F4F112D4D4F8CD33F122F59D42CC</td>\n",
       "      <td>VTS</td>\n",
       "      <td>1</td>\n",
       "      <td>NaN</td>\n",
       "      <td>2013-12-31 23:46:00</td>\n",
       "      <td>2013-12-31 23:54:00</td>\n",
       "      <td>2</td>\n",
       "      <td>480</td>\n",
       "      <td>2.60</td>\n",
       "      <td>-73.952888</td>\n",
       "      <td>40.776558</td>\n",
       "      <td>-73.977577</td>\n",
       "      <td>40.745575</td>\n",
       "    </tr>\n",
       "    <tr>\n",
       "      <td>846936</td>\n",
       "      <td>6D9C2E4EAC8F6A5C7D3102177BC42C03</td>\n",
       "      <td>8F589F68DC4B16219F46A1A6098A4BDB</td>\n",
       "      <td>VTS</td>\n",
       "      <td>1</td>\n",
       "      <td>NaN</td>\n",
       "      <td>2013-12-31 23:47:00</td>\n",
       "      <td>2013-12-31 23:54:00</td>\n",
       "      <td>6</td>\n",
       "      <td>420</td>\n",
       "      <td>1.54</td>\n",
       "      <td>-73.927185</td>\n",
       "      <td>40.806778</td>\n",
       "      <td>-73.951378</td>\n",
       "      <td>40.810059</td>\n",
       "    </tr>\n",
       "    <tr>\n",
       "      <td>846937</td>\n",
       "      <td>74394B7A3DC952E218DF570EEDB5DF23</td>\n",
       "      <td>E91A10EE3AE09F70873190F6DD989A32</td>\n",
       "      <td>CMT</td>\n",
       "      <td>1</td>\n",
       "      <td>N</td>\n",
       "      <td>2013-12-31 23:48:38</td>\n",
       "      <td>2013-12-31 23:55:20</td>\n",
       "      <td>2</td>\n",
       "      <td>401</td>\n",
       "      <td>2.30</td>\n",
       "      <td>-73.974609</td>\n",
       "      <td>40.748402</td>\n",
       "      <td>-73.962830</td>\n",
       "      <td>40.774895</td>\n",
       "    </tr>\n",
       "    <tr>\n",
       "      <td>846938</td>\n",
       "      <td>7471AFEAB6E8BB32CEF56F652E6F6085</td>\n",
       "      <td>625D42B5977173CFA4948A776ABDAA0B</td>\n",
       "      <td>CMT</td>\n",
       "      <td>1</td>\n",
       "      <td>N</td>\n",
       "      <td>2013-12-31 23:48:57</td>\n",
       "      <td>2013-12-31 23:58:13</td>\n",
       "      <td>4</td>\n",
       "      <td>555</td>\n",
       "      <td>1.40</td>\n",
       "      <td>-73.977196</td>\n",
       "      <td>40.742863</td>\n",
       "      <td>-73.993950</td>\n",
       "      <td>40.752422</td>\n",
       "    </tr>\n",
       "    <tr>\n",
       "      <td>846939</td>\n",
       "      <td>F8317FADB346A30B44CF0DB7EDA718AF</td>\n",
       "      <td>73E8FFE6D1EA6E6923E29D103FAF1E93</td>\n",
       "      <td>CMT</td>\n",
       "      <td>1</td>\n",
       "      <td>N</td>\n",
       "      <td>2013-12-31 23:50:10</td>\n",
       "      <td>2013-12-31 23:52:32</td>\n",
       "      <td>2</td>\n",
       "      <td>141</td>\n",
       "      <td>0.70</td>\n",
       "      <td>-73.973480</td>\n",
       "      <td>40.795177</td>\n",
       "      <td>-73.974670</td>\n",
       "      <td>40.788231</td>\n",
       "    </tr>\n",
       "    <tr>\n",
       "      <td>846940</td>\n",
       "      <td>9F29B1D177C67F2731E69EAA85D49367</td>\n",
       "      <td>5500334F780132AC7D883F01F869212E</td>\n",
       "      <td>CMT</td>\n",
       "      <td>1</td>\n",
       "      <td>N</td>\n",
       "      <td>2013-12-31 23:51:41</td>\n",
       "      <td>2013-12-31 23:57:50</td>\n",
       "      <td>1</td>\n",
       "      <td>368</td>\n",
       "      <td>1.60</td>\n",
       "      <td>-73.992058</td>\n",
       "      <td>40.750126</td>\n",
       "      <td>-73.987114</td>\n",
       "      <td>40.733604</td>\n",
       "    </tr>\n",
       "    <tr>\n",
       "      <td>846941</td>\n",
       "      <td>C76AB9E3B27A5CC4F7087CFB109F51AE</td>\n",
       "      <td>6B8BA824723DE0DAB63B980B1DC843CE</td>\n",
       "      <td>CMT</td>\n",
       "      <td>1</td>\n",
       "      <td>N</td>\n",
       "      <td>2013-12-31 23:54:00</td>\n",
       "      <td>2014-01-01 00:09:06</td>\n",
       "      <td>1</td>\n",
       "      <td>906</td>\n",
       "      <td>9.80</td>\n",
       "      <td>-73.994949</td>\n",
       "      <td>40.769096</td>\n",
       "      <td>-73.898994</td>\n",
       "      <td>40.869537</td>\n",
       "    </tr>\n",
       "    <tr>\n",
       "      <td>846942</td>\n",
       "      <td>D87EB3AD2ED303B3D92E37D871B2C2E9</td>\n",
       "      <td>F578F0435B49B3D7B9A7AAFC663A82CD</td>\n",
       "      <td>VTS</td>\n",
       "      <td>1</td>\n",
       "      <td>NaN</td>\n",
       "      <td>2013-12-31 23:59:00</td>\n",
       "      <td>2014-01-01 00:05:00</td>\n",
       "      <td>1</td>\n",
       "      <td>360</td>\n",
       "      <td>2.23</td>\n",
       "      <td>-73.993492</td>\n",
       "      <td>40.729347</td>\n",
       "      <td>-74.013725</td>\n",
       "      <td>40.702332</td>\n",
       "    </tr>\n",
       "    <tr>\n",
       "      <td>846943</td>\n",
       "      <td>F74743D90F84644B1FA4576F4A82A8A3</td>\n",
       "      <td>537121DB04EC62BADFA44D8F03755A64</td>\n",
       "      <td>VTS</td>\n",
       "      <td>1</td>\n",
       "      <td>NaN</td>\n",
       "      <td>2013-12-31 23:59:00</td>\n",
       "      <td>2014-01-01 00:08:00</td>\n",
       "      <td>1</td>\n",
       "      <td>540</td>\n",
       "      <td>1.76</td>\n",
       "      <td>-73.978477</td>\n",
       "      <td>40.772945</td>\n",
       "      <td>-73.963814</td>\n",
       "      <td>40.773922</td>\n",
       "    </tr>\n",
       "    <tr>\n",
       "      <td>846944</td>\n",
       "      <td>E5DCEBA68A6094576B10AFC609C61E29</td>\n",
       "      <td>735F78FA4CB06B5CB7122FF31822F68E</td>\n",
       "      <td>CMT</td>\n",
       "      <td>1</td>\n",
       "      <td>N</td>\n",
       "      <td>2013-12-31 23:59:24</td>\n",
       "      <td>2014-01-01 00:22:26</td>\n",
       "      <td>1</td>\n",
       "      <td>1381</td>\n",
       "      <td>4.50</td>\n",
       "      <td>-73.987206</td>\n",
       "      <td>40.750568</td>\n",
       "      <td>-73.970909</td>\n",
       "      <td>40.795815</td>\n",
       "    </tr>\n",
       "  </tbody>\n",
       "</table>\n",
       "</div>"
      ],
      "text/plain": [
       "                               medallion                      hack_license  \\\n",
       "846935  A2F52BBDD3B76EACDC5DB4A8030B661B  18E0F4F112D4D4F8CD33F122F59D42CC   \n",
       "846936  6D9C2E4EAC8F6A5C7D3102177BC42C03  8F589F68DC4B16219F46A1A6098A4BDB   \n",
       "846937  74394B7A3DC952E218DF570EEDB5DF23  E91A10EE3AE09F70873190F6DD989A32   \n",
       "846938  7471AFEAB6E8BB32CEF56F652E6F6085  625D42B5977173CFA4948A776ABDAA0B   \n",
       "846939  F8317FADB346A30B44CF0DB7EDA718AF  73E8FFE6D1EA6E6923E29D103FAF1E93   \n",
       "846940  9F29B1D177C67F2731E69EAA85D49367  5500334F780132AC7D883F01F869212E   \n",
       "846941  C76AB9E3B27A5CC4F7087CFB109F51AE  6B8BA824723DE0DAB63B980B1DC843CE   \n",
       "846942  D87EB3AD2ED303B3D92E37D871B2C2E9  F578F0435B49B3D7B9A7AAFC663A82CD   \n",
       "846943  F74743D90F84644B1FA4576F4A82A8A3  537121DB04EC62BADFA44D8F03755A64   \n",
       "846944  E5DCEBA68A6094576B10AFC609C61E29  735F78FA4CB06B5CB7122FF31822F68E   \n",
       "\n",
       "       vendor_id  rate_code store_and_fwd_flag     pickup_datetime  \\\n",
       "846935       VTS          1                NaN 2013-12-31 23:46:00   \n",
       "846936       VTS          1                NaN 2013-12-31 23:47:00   \n",
       "846937       CMT          1                  N 2013-12-31 23:48:38   \n",
       "846938       CMT          1                  N 2013-12-31 23:48:57   \n",
       "846939       CMT          1                  N 2013-12-31 23:50:10   \n",
       "846940       CMT          1                  N 2013-12-31 23:51:41   \n",
       "846941       CMT          1                  N 2013-12-31 23:54:00   \n",
       "846942       VTS          1                NaN 2013-12-31 23:59:00   \n",
       "846943       VTS          1                NaN 2013-12-31 23:59:00   \n",
       "846944       CMT          1                  N 2013-12-31 23:59:24   \n",
       "\n",
       "          dropoff_datetime  passenger_count  trip_time_in_secs  trip_distance  \\\n",
       "846935 2013-12-31 23:54:00                2                480           2.60   \n",
       "846936 2013-12-31 23:54:00                6                420           1.54   \n",
       "846937 2013-12-31 23:55:20                2                401           2.30   \n",
       "846938 2013-12-31 23:58:13                4                555           1.40   \n",
       "846939 2013-12-31 23:52:32                2                141           0.70   \n",
       "846940 2013-12-31 23:57:50                1                368           1.60   \n",
       "846941 2014-01-01 00:09:06                1                906           9.80   \n",
       "846942 2014-01-01 00:05:00                1                360           2.23   \n",
       "846943 2014-01-01 00:08:00                1                540           1.76   \n",
       "846944 2014-01-01 00:22:26                1               1381           4.50   \n",
       "\n",
       "        pickup_longitude  pickup_latitude  dropoff_longitude  dropoff_latitude  \n",
       "846935        -73.952888        40.776558         -73.977577         40.745575  \n",
       "846936        -73.927185        40.806778         -73.951378         40.810059  \n",
       "846937        -73.974609        40.748402         -73.962830         40.774895  \n",
       "846938        -73.977196        40.742863         -73.993950         40.752422  \n",
       "846939        -73.973480        40.795177         -73.974670         40.788231  \n",
       "846940        -73.992058        40.750126         -73.987114         40.733604  \n",
       "846941        -73.994949        40.769096         -73.898994         40.869537  \n",
       "846942        -73.993492        40.729347         -74.013725         40.702332  \n",
       "846943        -73.978477        40.772945         -73.963814         40.773922  \n",
       "846944        -73.987206        40.750568         -73.970909         40.795815  "
      ]
     },
     "execution_count": 11,
     "metadata": {},
     "output_type": "execute_result"
    }
   ],
   "source": [
    "data.tail(10)"
   ]
  },
  {
   "cell_type": "code",
   "execution_count": 12,
   "metadata": {},
   "outputs": [
    {
     "ename": "TypeError",
     "evalue": "'int' object is not iterable",
     "output_type": "error",
     "traceback": [
      "\u001b[0;31m---------------------------------------------------------------------------\u001b[0m",
      "\u001b[0;31mTypeError\u001b[0m                                 Traceback (most recent call last)",
      "\u001b[0;32m<ipython-input-12-6e22c0c941db>\u001b[0m in \u001b[0;36m<module>\u001b[0;34m\u001b[0m\n\u001b[0;32m----> 1\u001b[0;31m \u001b[0mdata\u001b[0m\u001b[0;34m.\u001b[0m\u001b[0mdescribe\u001b[0m\u001b[0;34m(\u001b[0m\u001b[0;36m10\u001b[0m\u001b[0;34m)\u001b[0m\u001b[0;34m\u001b[0m\u001b[0;34m\u001b[0m\u001b[0m\n\u001b[0m",
      "\u001b[0;32m/opt/anaconda3/lib/python3.7/site-packages/pandas/core/generic.py\u001b[0m in \u001b[0;36mdescribe\u001b[0;34m(self, percentiles, include, exclude)\u001b[0m\n\u001b[1;32m  10180\u001b[0m         \u001b[0;32mif\u001b[0m \u001b[0mpercentiles\u001b[0m \u001b[0;32mis\u001b[0m \u001b[0;32mnot\u001b[0m \u001b[0;32mNone\u001b[0m\u001b[0;34m:\u001b[0m\u001b[0;34m\u001b[0m\u001b[0;34m\u001b[0m\u001b[0m\n\u001b[1;32m  10181\u001b[0m             \u001b[0;31m# explicit conversion of `percentiles` to list\u001b[0m\u001b[0;34m\u001b[0m\u001b[0;34m\u001b[0m\u001b[0;34m\u001b[0m\u001b[0m\n\u001b[0;32m> 10182\u001b[0;31m             \u001b[0mpercentiles\u001b[0m \u001b[0;34m=\u001b[0m \u001b[0mlist\u001b[0m\u001b[0;34m(\u001b[0m\u001b[0mpercentiles\u001b[0m\u001b[0;34m)\u001b[0m\u001b[0;34m\u001b[0m\u001b[0;34m\u001b[0m\u001b[0m\n\u001b[0m\u001b[1;32m  10183\u001b[0m \u001b[0;34m\u001b[0m\u001b[0m\n\u001b[1;32m  10184\u001b[0m             \u001b[0;31m# get them all to be in [0, 1]\u001b[0m\u001b[0;34m\u001b[0m\u001b[0;34m\u001b[0m\u001b[0;34m\u001b[0m\u001b[0m\n",
      "\u001b[0;31mTypeError\u001b[0m: 'int' object is not iterable"
     ]
    }
   ],
   "source": [
    "data.describe(10)"
   ]
  },
  {
   "cell_type": "code",
   "execution_count": 13,
   "metadata": {},
   "outputs": [
    {
     "ename": "AttributeError",
     "evalue": "'function' object has no attribute 'describe'",
     "output_type": "error",
     "traceback": [
      "\u001b[0;31m---------------------------------------------------------------------------\u001b[0m",
      "\u001b[0;31mAttributeError\u001b[0m                            Traceback (most recent call last)",
      "\u001b[0;32m<ipython-input-13-c1a6385841e1>\u001b[0m in \u001b[0;36m<module>\u001b[0;34m\u001b[0m\n\u001b[0;32m----> 1\u001b[0;31m \u001b[0mdata\u001b[0m\u001b[0;34m.\u001b[0m\u001b[0mhead\u001b[0m\u001b[0;34m.\u001b[0m\u001b[0mdescribe\u001b[0m\u001b[0;34m(\u001b[0m\u001b[0;36m3\u001b[0m\u001b[0;34m)\u001b[0m\u001b[0;34m\u001b[0m\u001b[0;34m\u001b[0m\u001b[0m\n\u001b[0m",
      "\u001b[0;31mAttributeError\u001b[0m: 'function' object has no attribute 'describe'"
     ]
    }
   ],
   "source": [
    "data.head.describe(3)"
   ]
  },
  {
   "cell_type": "code",
   "execution_count": 14,
   "metadata": {},
   "outputs": [
    {
     "data": {
      "text/plain": [
       "Index(['medallion', 'hack_license', 'vendor_id', 'rate_code',\n",
       "       'store_and_fwd_flag', 'pickup_datetime', 'dropoff_datetime',\n",
       "       'passenger_count', 'trip_time_in_secs', 'trip_distance',\n",
       "       'pickup_longitude', 'pickup_latitude', 'dropoff_longitude',\n",
       "       'dropoff_latitude'],\n",
       "      dtype='object')"
      ]
     },
     "execution_count": 14,
     "metadata": {},
     "output_type": "execute_result"
    }
   ],
   "source": [
    "data.columns"
   ]
  },
  {
   "cell_type": "code",
   "execution_count": 16,
   "metadata": {},
   "outputs": [
    {
     "ename": "SyntaxError",
     "evalue": "invalid syntax (<ipython-input-16-e525a578c638>, line 3)",
     "output_type": "error",
     "traceback": [
      "\u001b[0;36m  File \u001b[0;32m\"<ipython-input-16-e525a578c638>\"\u001b[0;36m, line \u001b[0;32m3\u001b[0m\n\u001b[0;31m    'pickup_datetime',\u001b[0m\n\u001b[0m                    ^\u001b[0m\n\u001b[0;31mSyntaxError\u001b[0m\u001b[0;31m:\u001b[0m invalid syntax\n"
     ]
    }
   ],
   "source": [
    "Index(['medallion',\n",
    "      ...\n",
    "       'pickup_datetime',\n",
    "       'dropoff_datetime',\n",
    "       'passenger_count',\n",
    "       'trip_time_in_secs',\n",
    "      'trip_distance',\n",
    "      'pickup_longitude',\n",
    "      'pickup_latitude',\n",
    "      'dropoff_longitude',\n",
    "      'dropoff_latitude'], dtype='object')"
   ]
  },
  {
   "cell_type": "code",
   "execution_count": null,
   "metadata": {},
   "outputs": [],
   "source": []
  }
 ],
 "metadata": {
  "kernelspec": {
   "display_name": "Python 3",
   "language": "python",
   "name": "python3"
  },
  "language_info": {
   "codemirror_mode": {
    "name": "ipython",
    "version": 3
   },
   "file_extension": ".py",
   "mimetype": "text/x-python",
   "name": "python",
   "nbconvert_exporter": "python",
   "pygments_lexer": "ipython3",
   "version": "3.7.4"
  }
 },
 "nbformat": 4,
 "nbformat_minor": 2
}
